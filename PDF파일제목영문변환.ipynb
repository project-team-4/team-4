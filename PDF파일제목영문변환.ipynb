{
 "cells": [
  {
   "cell_type": "code",
   "execution_count": 52,
   "metadata": {},
   "outputs": [],
   "source": [
    "import os\n",
    "from os import listdir\n",
    "files = listdir('C:/Users/user/Desktop/reportfin')\n",
    "file_url = 'C:/Users/user/Desktop/reportfin'"
   ]
  },
  {
   "cell_type": "code",
   "execution_count": 53,
   "metadata": {},
   "outputs": [
    {
     "data": {
      "text/plain": [
       "['08.04.01대우증권6.pdf',\n",
       " '08.04.07대우증권4.pdf',\n",
       " '08.04.07대우증권5.pdf',\n",
       " '08.04.14대우증권3.pdf',\n",
       " '08.04.21대우증권2.pdf']"
      ]
     },
     "execution_count": 53,
     "metadata": {},
     "output_type": "execute_result"
    }
   ],
   "source": [
    "files[:5]"
   ]
  },
  {
   "cell_type": "code",
   "execution_count": 54,
   "metadata": {},
   "outputs": [],
   "source": [
    "aa = [w.replace('대우증권', 'daewoo') for w in files]\n",
    "aa = [w.replace('하나대투증권', 'hanaA') for w in aa]\n",
    "aa = [w.replace('IBK투자증권', 'IBK') for w in aa]\n",
    "aa = [w.replace('메리츠종금증권', 'meritz') for w in aa]\n",
    "aa = [w.replace('현대차증권', 'hyundai') for w in aa]\n",
    "aa = [w.replace('한화투자증권', 'hanhwa') for w in aa]\n",
    "aa = [w.replace('키움증권', 'kiwoom') for w in aa]\n",
    "aa = [w.replace('하나금융투자', 'hanaB') for w in aa]\n",
    "aa = [w.replace('이베스트투자증권', 'ebest') for w in aa]\n",
    "aa = [w.replace('미래에셋대우', 'mirae') for w in aa]\n",
    "aa = [w.replace('KTB투자증권', 'KTB') for w in aa]\n",
    "aa = [w.replace('케이프투자증권', 'cape') for w in aa]\n",
    "aa = [w.replace('이트레이드증권', 'etrade') for w in aa]\n",
    "aa = [w.replace('대신증권', 'daishin') for w in aa]\n",
    "aa = [w.replace('교보증권', 'kyobo') for w in aa]\n",
    "aa = [w.replace('LIG투자증권', 'mirae') for w in aa]\n",
    "aa = [w.replace('이베스트증권', 'ebest2') for w in aa]\n",
    "aa = [w.replace('DB금융투자', 'DB') for w in aa]"
   ]
  },
  {
   "cell_type": "code",
   "execution_count": 55,
   "metadata": {
    "scrolled": true
   },
   "outputs": [
    {
     "data": {
      "text/plain": [
       "['08.04.01대우증권6.pdf',\n",
       " '08.04.07대우증권4.pdf',\n",
       " '08.04.07대우증권5.pdf',\n",
       " '08.04.14대우증권3.pdf',\n",
       " '08.04.21대우증권2.pdf']"
      ]
     },
     "execution_count": 55,
     "metadata": {},
     "output_type": "execute_result"
    }
   ],
   "source": [
    "files[:5]"
   ]
  },
  {
   "cell_type": "code",
   "execution_count": 56,
   "metadata": {
    "scrolled": true
   },
   "outputs": [
    {
     "data": {
      "text/plain": [
       "['08.04.01daewoo6.pdf',\n",
       " '08.04.07daewoo4.pdf',\n",
       " '08.04.07daewoo5.pdf',\n",
       " '08.04.14daewoo3.pdf',\n",
       " '08.04.21daewoo2.pdf']"
      ]
     },
     "execution_count": 56,
     "metadata": {},
     "output_type": "execute_result"
    }
   ],
   "source": [
    "aa[:5]"
   ]
  },
  {
   "cell_type": "code",
   "execution_count": 57,
   "metadata": {},
   "outputs": [
    {
     "data": {
      "text/plain": [
       "3099"
      ]
     },
     "execution_count": 57,
     "metadata": {},
     "output_type": "execute_result"
    }
   ],
   "source": [
    "len(aa)"
   ]
  },
  {
   "cell_type": "code",
   "execution_count": null,
   "metadata": {},
   "outputs": [],
   "source": [
    "import os\n",
    "\n",
    "for i in range(len(files)):\n",
    "  src='C:/Users/user/Desktop/reportfin/' + files[i]\n",
    "  dst='C:/Users/user/Desktop/reportfin/newnew/' + aa[i]\n",
    "  os.rename(src,dst)"
   ]
  }
 ],
 "metadata": {
  "kernelspec": {
   "display_name": "Python 3",
   "language": "python",
   "name": "python3"
  },
  "language_info": {
   "codemirror_mode": {
    "name": "ipython",
    "version": 3
   },
   "file_extension": ".py",
   "mimetype": "text/x-python",
   "name": "python",
   "nbconvert_exporter": "python",
   "pygments_lexer": "ipython3",
   "version": "3.6.5"
  }
 },
 "nbformat": 4,
 "nbformat_minor": 2
}
