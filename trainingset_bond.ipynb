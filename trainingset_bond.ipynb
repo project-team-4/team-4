{
 "cells": [
  {
   "cell_type": "code",
   "execution_count": null,
   "metadata": {},
   "outputs": [],
   "source": [
    "import pandas as pd\n",
    "\n",
    "df = pd.read_csv(\"C:/Users/user/Downloads/bondreport4_1.csv\")\n",
    "callrate = pd.read_csv('C:/Users/user/Desktop/callrate.csv')\n",
    "\n",
    "callrate = callrate[['date', 'label']]\n",
    "callrate['date'] = callrate['date'].str.replace(\" \", \"\")\n",
    "\n",
    "training_set = df[['date', 'token', 'ngram']]\n",
    "\n",
    "\n",
    "merge = pd.merge(training_set, callrate, on = 'date', how = 'left')\n",
    "\n",
    "merge['token']=merge['token'].fillna(\"0\")\n",
    "merge['ngram']=merge['ngram'].fillna(\"0\")\n",
    "\n",
    "\n",
    "merge['ngrams and tokens'] = merge['ngram'] + ',' + merge['token']\n",
    "    \n",
    "for i in range(len(merge)):\n",
    "    b = merge['ngrams and tokens'][i]\n",
    "    b = b.replace(\"0,\", \"\")\n",
    "    b = b.replace(\",0\", \"\")\n",
    "    merge['ngrams and tokens'][i]=b\n",
    "    \n",
    "merge['label'][6] = 1.0\n",
    "merge['label'][1663] = -1.0\n",
    "merge['label'][1668] = -1.0\n",
    "\n",
    "total = merge.loc[merge['label']!= 0 ]\n",
    "\n",
    "total.to_csv(\"C:/Users/user/Downloads/bondreport_merge_label.csv\", header=True, index=False)"
   ]
  }
 ],
 "metadata": {
  "kernelspec": {
   "display_name": "Python 3",
   "language": "python",
   "name": "python3"
  },
  "language_info": {
   "codemirror_mode": {
    "name": "ipython",
    "version": 3
   },
   "file_extension": ".py",
   "mimetype": "text/x-python",
   "name": "python",
   "nbconvert_exporter": "python",
   "pygments_lexer": "ipython3",
   "version": "3.6.5"
  }
 },
 "nbformat": 4,
 "nbformat_minor": 2
}
