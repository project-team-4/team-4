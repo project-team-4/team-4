{
 "cells": [
  {
   "cell_type": "code",
   "execution_count": 9,
   "metadata": {},
   "outputs": [],
   "source": [
    "import os\n",
    "from os import listdir\n",
    "from datetime import timedelta, date\n",
    "import glob\n",
    "file_url = \"C:/Users/user/Desktop/05.06.10/2005\"\n",
    "# C:\\Users\\user\\Desktop\\05.06.10\\2005\n",
    "files = listdir(file_url)\n",
    "\n",
    "import pandas as pd\n",
    "\n",
    "\n",
    "\n",
    "date = []\n",
    "title = []\n",
    "url = []\n",
    "script = []\n",
    "# df_total = pd.DataFrame()\n",
    "\n",
    "\n",
    "for filenames in files:\n",
    "    if int(filenames[13:15]) == 1 :\n",
    "        date = []\n",
    "        title = []\n",
    "        url = []\n",
    "        script = []\n",
    "        df = pd.DataFrame()\n",
    "    \n",
    "    url_open = \"C:/Users/user/Desktop/05.06.10/2005/\"+filenames\n",
    "    text = open(url_open, encoding = 'utf-8').read()\n",
    "    text1 = text.replace('\\n===\\n', '@@@')\n",
    "    text2 = text1.split('@@@')\n",
    "        \n",
    "    for j in range(len(text2)):\n",
    "        if j % 5 == 1:\n",
    "            date.append(text2[j])\n",
    "        if j % 5 == 2:\n",
    "            title.append(text2[j])\n",
    "        if j % 5 == 3:\n",
    "            url.append(text2[j])\n",
    "        if j % 5 == 4:\n",
    "            script.append(text2[j])\n",
    "\n",
    "    raw_data = {'title': title,'date': date, 'url': url, 'script' : script}\n",
    "    df = pd.DataFrame(raw_data)\n",
    "    for i in range(1,13):\n",
    "        if int(filenames[10:12]) == i:\n",
    "            df.to_csv(\"@@prepro_20050\"+str(i)+\".csv\", header=True, index=False)\n"
   ]
  },
  {
   "cell_type": "code",
   "execution_count": null,
   "metadata": {},
   "outputs": [],
   "source": []
  }
 ],
 "metadata": {
  "kernelspec": {
   "display_name": "Python 3",
   "language": "python",
   "name": "python3"
  },
  "language_info": {
   "codemirror_mode": {
    "name": "ipython",
    "version": 3
   },
   "file_extension": ".py",
   "mimetype": "text/x-python",
   "name": "python",
   "nbconvert_exporter": "python",
   "pygments_lexer": "ipython3",
   "version": "3.6.5"
  }
 },
 "nbformat": 4,
 "nbformat_minor": 2
}
