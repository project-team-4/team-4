{
 "cells": [
  {
   "cell_type": "code",
   "execution_count": null,
   "metadata": {},
   "outputs": [],
   "source": [
    "import os\n",
    "from os import listdir\n",
    "from datetime import timedelta, date\n",
    "import glob\n",
    "import pandas as pd\n",
    "\n",
    "file_url = \"C:/Users/user/Desktop/news_2017/\"\n",
    "\n",
    "files = listdir(file_url)\n",
    "\n",
    "df_total = pd.DataFrame()\n",
    "\n",
    "\n",
    "for filenames in files:\n",
    "    if int(filenames[8:10]) == 1:\n",
    "        df_total = pd.DataFrame()\n",
    "    \n",
    "    url_open = \"C:/Users/user/Desktop/news_2017/\"+filenames\n",
    "    text = pd.DataFrame()\n",
    "    \n",
    "    try :\n",
    "        text = pd.read_csv(url_open, encoding=\"cp949\")\n",
    "    except:\n",
    "        text = pd.read_csv(url_open, encoding=\"utf-8\")\n",
    "    \n",
    "    try :\n",
    "        text['script'] = text['script'].str.replace(\",\", \" \")\n",
    "    except :\n",
    "        print('error')\n",
    "        \n",
    "    try :\n",
    "        text['date']= text['date'].str.replace(\"-\",\".\")\n",
    "    except :\n",
    "        print('error')\n",
    "    \n",
    "    df_total = df_total.append(text)\n",
    "\n",
    "    \n",
    "\n",
    "    \n",
    "    \n",
    "    \n",
    "    for i in range(1,13):\n",
    "        if int(filenames[5:7]) == i:\n",
    "            df_total = df_total.drop_duplicates(['script'])\n",
    "            df_total.to_csv(\"C:/Users/user/Desktop/news_2017/@@prepro_20170\"+str(i)+\".csv\", header=True, index=False)\n"
   ]
  }
 ],
 "metadata": {
  "kernelspec": {
   "display_name": "Python 3",
   "language": "python",
   "name": "python3"
  },
  "language_info": {
   "codemirror_mode": {
    "name": "ipython",
    "version": 3
   },
   "file_extension": ".py",
   "mimetype": "text/x-python",
   "name": "python",
   "nbconvert_exporter": "python",
   "pygments_lexer": "ipython3",
   "version": "3.6.5"
  }
 },
 "nbformat": 4,
 "nbformat_minor": 2
}
