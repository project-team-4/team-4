{
 "cells": [
  {
   "cell_type": "code",
   "execution_count": 1,
   "metadata": {},
   "outputs": [],
   "source": [
    "import pandas as pd\n",
    "\n",
    "\n",
    "\n",
    "df = pd.read_csv('./newssssssss/news_201701_preprocessed.csv').dropna()\n",
    "df2 = pd.read_csv('./newssssssss/news_201702_preprocessed.csv').dropna()\n",
    "df3 = pd.read_csv('./newssssssss/news_201703_preprocessed.csv').dropna()\n",
    "df4 = pd.read_csv('./newssssssss/news_201704_preprocessed.csv').dropna()\n",
    "df5 = pd.read_csv('./newssssssss/news_201705_preprocessed.csv').dropna()\n",
    "df6 = pd.read_csv('./newssssssss/news_201706_preprocessed.csv').dropna()\n",
    "df7 = pd.read_csv('./newssssssss/news_201707_preprocessed.csv').dropna()\n",
    "df8 = pd.read_csv('./newssssssss/news_201708_preprocessed.csv').dropna()\n",
    "df9 = pd.read_csv('./newssssssss/news_201709_preprocessed.csv').dropna()\n",
    "df10 = pd.read_csv('./newssssssss/news_201710_preprocessed.csv').dropna()\n",
    "df11 = pd.read_csv('./newssssssss/news_201711_preprocessed.csv').dropna()\n",
    "df12 = pd.read_csv('./newssssssss/news_201712_preprocessed.csv').dropna()\n",
    "\n",
    "df_ = pd.concat([df, df2, df3, df4, df5, df6, df7, df8, df9, df10, df11, df12])\n",
    "\n",
    "# df[\"tokens\"] = ''\n",
    "# df[\"ngrams\"] = '7, df8, df9, df10, df11, df12\n",
    "\n",
    "# for i, row in df.iterrows():\n",
    "#     try :\n",
    "#         text = row['news']\n",
    "\n",
    "#         tokens = mpck.tokenize(text)\n",
    "#         ngrams = mpck.ngramize(tokens)\n",
    "\n",
    "#         row['tokens'] = ','.join(tokens)\n",
    "#         row['ngrams'] = ','.join(ngrams)\n",
    "        \n",
    "#         print(str(i) + \"번=============\")\n",
    "#     except :\n",
    "#         print(str(i) + \"번===df5, df6, df7, df8, df9, df10, df11, df12==========오류!!\")\n",
    "df_.to_csv('./newssssssss/news_2017_preprocessed.csv')"
   ]
  },
  {
   "cell_type": "code",
   "execution_count": null,
   "metadata": {},
   "outputs": [],
   "source": []
  }
 ],
 "metadata": {
  "kernelspec": {
   "display_name": "Python 3",
   "language": "python",
   "name": "python3"
  },
  "language_info": {
   "codemirror_mode": {
    "name": "ipython",
    "version": 3
   },
   "file_extension": ".py",
   "mimetype": "text/x-python",
   "name": "python",
   "nbconvert_exporter": "python",
   "pygments_lexer": "ipython3",
   "version": "3.6.5"
  }
 },
 "nbformat": 4,
 "nbformat_minor": 2
}
