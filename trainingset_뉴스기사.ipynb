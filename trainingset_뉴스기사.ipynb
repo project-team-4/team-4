{
 "cells": [
  {
   "cell_type": "code",
   "execution_count": 38,
   "metadata": {
    "scrolled": false
   },
   "outputs": [
    {
     "name": "stderr",
     "output_type": "stream",
     "text": [
      "C:\\ProgramData\\Anaconda3\\lib\\site-packages\\ipykernel_launcher.py:36: SettingWithCopyWarning: \n",
      "A value is trying to be set on a copy of a slice from a DataFrame\n",
      "\n",
      "See the caveats in the documentation: http://pandas.pydata.org/pandas-docs/stable/indexing.html#indexing-view-versus-copy\n"
     ]
    }
   ],
   "source": [
    "import pandas as pd\n",
    "\n",
    "#training_set.loc[training_set['date']=='2006.01.03']\n",
    "\n",
    "df = pd.read_csv('./news_2006_preprocessed.csv',encoding='utf-8')\n",
    "callrate = pd.read_csv('./callrate_-_.csv',encoding='utf-8')\n",
    "callrate = callrate[['date', 'label']]\n",
    "callrate['date'] = callrate['date'].str.replace(\" \", \"\")\n",
    "# callrate\n",
    "\n",
    "training_set = df[['date', 'tokens', 'ngrams']]\n",
    "# training_set\n",
    "\n",
    "merge = pd.merge(training_set, callrate, on = 'date', how = 'left')\n",
    "# callrate #(콜금리)\n",
    "\n",
    "\n",
    "merge['tokens']=merge['tokens'].fillna(\"0\")\n",
    "merge['ngrams']=merge['ngrams'].fillna(\"0\")\n",
    "if(str(merge['ngrams'])== \"0\"):\n",
    "    merge['ngrams and tokens'] = merge['tokens']\n",
    "elif(str(merge['tokens'])== \"0\"):\n",
    "    merge['ngrams and tokens'] = merge['ngrams']\n",
    "else:\n",
    "    merge['ngrams and tokens'] = merge['ngrams'] + merge['tokens']\n",
    "\n",
    "# #None\n",
    "merge\n",
    "# # merge['ngrams and tokens'].to_csv('C:/Users/user/Test/최종 웹크롤링/drive-download-20190522T020054Z-001/ddddddd.csv', header=True, index=False)\n",
    "\n",
    "list_ = [-1.0, 0, 1.0]\n",
    "for i in reversed(range(len(merge))):\n",
    "    k = merge['label'][i]\n",
    "    if k not in list_:\n",
    "        k = merge['label'][i+1]\n",
    "        merge['label'][i] = k\n",
    "\n",
    "total = merge.loc[merge['label']!= 0 ]\n",
    "\n",
    "total.to_csv('../drive-download-20190522T020100Z-001/2014_merge_label.csv', header=True, index=False)    \n",
    "\n"
   ]
  }
 ],
 "metadata": {
  "kernelspec": {
   "display_name": "Python 3",
   "language": "python",
   "name": "python3"
  },
  "language_info": {
   "codemirror_mode": {
    "name": "ipython",
    "version": 3
   },
   "file_extension": ".py",
   "mimetype": "text/x-python",
   "name": "python",
   "nbconvert_exporter": "python",
   "pygments_lexer": "ipython3",
   "version": "3.6.5"
  }
 },
 "nbformat": 4,
 "nbformat_minor": 2
}
