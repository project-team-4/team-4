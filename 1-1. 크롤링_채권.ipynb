{
 "cells": [
  {
   "cell_type": "code",
   "execution_count": null,
   "metadata": {},
   "outputs": [],
   "source": [
    "from bs4 import BeautifulSoup, Comment\n",
    "from urllib.request import urlopen\n",
    "import pandas as pd\n",
    "from selenium import webdriver\n",
    "import time\n",
    "import re\n",
    "from selenium.webdriver.common.by import By\n",
    "from selenium.webdriver.support.ui import WebDriverWait\n",
    "from selenium.webdriver.support import expected_conditions as EC\n",
    "import requests"
   ]
  },
  {
   "cell_type": "code",
   "execution_count": null,
   "metadata": {},
   "outputs": [],
   "source": [
    "\n",
    "lili = [3,4,5,6,7,11,12,13,14,15,19,20,21,22,23,27,28,29,30,31,35,36,37,38,39,43,44,45,46,47]\n",
    "for i in range(1,105) :\n",
    "    url = \"https://finance.naver.com/research/debenture_list.nhn?keyword=&brokerCode=&searchType=writeDate&writeFromDate=2005-01-01&writeToDate=2017-12-31&x=0&y=0&page=\"+ str(i)\n",
    "    driver.get(url)    \n",
    "    \n",
    "    #a_ls= driver.find_elements_by_xpath(\"\"\"//*[@id=\"contentarea_left\"]/div[3]/table[1]//a[@target='_blank']\"\"\")\n",
    "    \n",
    "    idx = 0;\n",
    "    \n",
    "    \n",
    "    \n",
    "    for k in lili : \n",
    "        a= driver.find_element_by_xpath(\"\"\"//*[@id=\"contentarea_left\"]/div[3]/table[1]/tbody/tr[\"\"\"+str(k)+\"\"\"]/td[3]/a\"\"\")\n",
    "        b= driver.find_element_by_xpath(\"\"\"//*[@id=\"contentarea_left\"]/div[3]/table[1]/tbody/tr[\"\"\"+str(k)+\"\"\"]/td[2]\"\"\")\n",
    "        c= driver.find_element_by_xpath(\"\"\"//*[@id=\"contentarea_left\"]/div[3]/table[1]/tbody/tr[\"\"\"+str(k)+\"\"\"]/td[4]\"\"\") \n",
    "        time.sleep(2)\n",
    "        pdf_link = a.get_attribute('href')\n",
    "        bb = b.text\n",
    "        cc = c.text\n",
    "        file = requests.get(pdf_link)\n",
    "        filename = str(cc) + str(bb) + str(idx)+'.pdf'\n",
    "        print(filename)\n",
    "        with open(filename, 'wb') as f:\n",
    "            f.write(file.content)\n",
    "        idx +=1\n",
    "\n",
    "            "
   ]
  },
  {
   "cell_type": "code",
   "execution_count": null,
   "metadata": {},
   "outputs": [],
   "source": []
  }
 ],
 "metadata": {
  "kernelspec": {
   "display_name": "Python 3",
   "language": "python",
   "name": "python3"
  },
  "language_info": {
   "codemirror_mode": {
    "name": "ipython",
    "version": 3
   },
   "file_extension": ".py",
   "mimetype": "text/x-python",
   "name": "python",
   "nbconvert_exporter": "python",
   "pygments_lexer": "ipython3",
   "version": "3.6.5"
  }
 },
 "nbformat": 4,
 "nbformat_minor": 2
}
